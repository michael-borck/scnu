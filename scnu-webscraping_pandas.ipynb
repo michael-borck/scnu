{
 "cells": [
  {
   "cell_type": "markdown",
   "metadata": {
    "id": "7gJzY7ptL8zS"
   },
   "source": [
    "# Webscraping Using Pandas"
   ]
  },
  {
   "cell_type": "code",
   "execution_count": null,
   "metadata": {},
   "outputs": [],
   "source": [
    "!pip install html5lib -q"
   ]
  },
  {
   "cell_type": "code",
   "execution_count": null,
   "metadata": {
    "id": "W4Jnl3SgJXsl"
   },
   "outputs": [],
   "source": [
    "# Load pandas\n",
    "import pandas as pd\n",
    "\n",
    "# Webpage url                                                                                                               \n",
    "#url = 'https://www.basketball-reference.com/leagues/NBA_2022_per_game.html'\n",
    "#url = 'https://tabletennis-reference.com/player/world_ranking/men/general'\n",
    "#url = 'https://tabletennis-reference.com/player/world_ranking/women/general'\n",
    "url = 'https://encyclopedia.thefreedictionary.com/table+tennis'\n",
    "\n",
    "# Extract tables\n",
    "tables = pd.read_html(url)\n"
   ]
  },
  {
   "cell_type": "code",
   "execution_count": null,
   "metadata": {
    "id": "NZkMU4n-MIJk"
   },
   "outputs": [],
   "source": []
  }
 ],
 "metadata": {
  "colab": {
   "authorship_tag": "ABX9TyPwAwyY77zfACVnvdja2Yr1",
   "include_colab_link": true,
   "private_outputs": true,
   "provenance": []
  },
  "kernelspec": {
   "display_name": "Python 3 (ipykernel)",
   "language": "python",
   "name": "python3"
  },
  "language_info": {
   "codemirror_mode": {
    "name": "ipython",
    "version": 3
   },
   "file_extension": ".py",
   "mimetype": "text/x-python",
   "name": "python",
   "nbconvert_exporter": "python",
   "pygments_lexer": "ipython3",
   "version": "3.9.13"
  }
 },
 "nbformat": 4,
 "nbformat_minor": 4
}
